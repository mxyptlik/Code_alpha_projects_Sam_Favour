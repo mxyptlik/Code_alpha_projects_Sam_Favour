{
  "nbformat": 4,
  "nbformat_minor": 0,
  "metadata": {
    "colab": {
      "provenance": [],
      "authorship_tag": "ABX9TyMeMbqxspRVdipw4soow14Y",
      "include_colab_link": true
    },
    "kernelspec": {
      "name": "python3",
      "display_name": "Python 3"
    },
    "language_info": {
      "name": "python"
    }
  },
  "cells": [
    {
      "cell_type": "markdown",
      "metadata": {
        "id": "view-in-github",
        "colab_type": "text"
      },
      "source": [
        "<a href=\"https://colab.research.google.com/github/mxyptlik/Code_alpha_projects_Sam_Favour/blob/main/credit_scoring_model.ipynb\" target=\"_parent\"><img src=\"https://colab.research.google.com/assets/colab-badge.svg\" alt=\"Open In Colab\"/></a>"
      ]
    },
    {
      "cell_type": "code",
      "execution_count": null,
      "metadata": {
        "id": "FJ0GWlJApR8B"
      },
      "outputs": [],
      "source": [
        "import pandas as pd\n",
        "import numpy as np\n",
        "\n",
        "from sklearn.model_selection import train_test_split\n",
        "from sklearn.preprocessing import StandardScaler\n",
        "from sklearn.linear_model import LogisticRegression\n",
        "from sklearn.metrics import accuracy_score, confusion_matrix, classification_report\n",
        "from sklearn.ensemble import RandomForestClassifier"
      ]
    },
    {
      "cell_type": "markdown",
      "source": [
        "import dataset\n"
      ],
      "metadata": {
        "id": "BVLEouCHtCU8"
      }
    },
    {
      "cell_type": "code",
      "source": [
        "credit_df = pd.read_excel('a_Dataset_CreditScoring.xlsx')"
      ],
      "metadata": {
        "id": "zSAH82uZsi4G"
      },
      "execution_count": null,
      "outputs": []
    },
    {
      "cell_type": "code",
      "source": [
        "credit_df.head()"
      ],
      "metadata": {
        "id": "AQCILE_ath21"
      },
      "execution_count": null,
      "outputs": []
    },
    {
      "cell_type": "markdown",
      "source": [
        "Data Preparation"
      ],
      "metadata": {
        "id": "2aAwUk6St8n7"
      }
    },
    {
      "cell_type": "code",
      "source": [
        "credit_df.info()"
      ],
      "metadata": {
        "id": "ntALizGDtlcm"
      },
      "execution_count": null,
      "outputs": []
    },
    {
      "cell_type": "code",
      "source": [
        "credit_df.isnull().sum()"
      ],
      "metadata": {
        "id": "N7Mn8DBQuDDS"
      },
      "execution_count": null,
      "outputs": []
    },
    {
      "cell_type": "code",
      "source": [
        "credit_df.drop(['ID'], axis=1, inplace=True)"
      ],
      "metadata": {
        "id": "-i7aymHTuGsy"
      },
      "execution_count": null,
      "outputs": []
    },
    {
      "cell_type": "code",
      "source": [
        "credit_df.head(5)"
      ],
      "metadata": {
        "id": "TEK3SIHwuzRg"
      },
      "execution_count": null,
      "outputs": []
    },
    {
      "cell_type": "code",
      "source": [
        "credit_df.fillna(credit_df.mean(), inplace=True)"
      ],
      "metadata": {
        "id": "zLmN1FCcu21X"
      },
      "execution_count": null,
      "outputs": []
    },
    {
      "cell_type": "code",
      "source": [
        "credit_df['TARGET'].value_counts()"
      ],
      "metadata": {
        "id": "vi9ncAuTvDpI"
      },
      "execution_count": null,
      "outputs": []
    },
    {
      "cell_type": "code",
      "source": [
        "credit_df.groupby('TARGET').mean()"
      ],
      "metadata": {
        "id": "EI2v1x7UveDN"
      },
      "execution_count": null,
      "outputs": []
    },
    {
      "cell_type": "markdown",
      "source": [
        "Train test split"
      ],
      "metadata": {
        "id": "Nd4muFDSwIm5"
      }
    },
    {
      "cell_type": "code",
      "source": [
        "y = credit_df.iloc[:,0].values\n",
        "x = credit_df.iloc[:, 1:28].values"
      ],
      "metadata": {
        "id": "DJwdmEHYvu6L"
      },
      "execution_count": null,
      "outputs": []
    },
    {
      "cell_type": "code",
      "source": [
        "#splitting the dataset into training and testing(80/20)\n",
        "\n",
        "x_train,x_test,y_train,y_test = train_test_split(x,y,test_size=0.2,random_state=0)"
      ],
      "metadata": {
        "id": "Y5VUWFPmwe3a"
      },
      "execution_count": null,
      "outputs": []
    },
    {
      "cell_type": "code",
      "source": [
        "sc = StandardScaler()\n",
        "X_train = sc.fit_transform(x_train)\n",
        "X_test = sc.transform(x_test)"
      ],
      "metadata": {
        "id": "0hXfWLOxxjbg"
      },
      "execution_count": null,
      "outputs": []
    },
    {
      "cell_type": "markdown",
      "source": [
        "Logistic Regression\n",
        "\n",
        "\n"
      ],
      "metadata": {
        "id": "43zafJnIx08Q"
      }
    },
    {
      "cell_type": "code",
      "source": [
        "classifier  = LogisticRegression(solver=\"newton-cg\")\n",
        "classifier.fit(X_train,y_train)\n",
        "y_pred_lr = classifier.predict(X_test)"
      ],
      "metadata": {
        "id": "lr4S6DEIx0QK"
      },
      "execution_count": null,
      "outputs": []
    },
    {
      "cell_type": "code",
      "source": [
        "print(\"Logistic Regression:\")\n",
        "print(confusion_matrix(y_test, y_pred_lr))\n",
        "print(f\"Accuracy: {accuracy_score(y_test, y_pred_lr):.2f}\")\n",
        "print(classification_report(y_test, y_pred_lr))\n"
      ],
      "metadata": {
        "id": "aUsOaU3g0nDX"
      },
      "execution_count": null,
      "outputs": []
    },
    {
      "cell_type": "markdown",
      "source": [
        "Using random forest"
      ],
      "metadata": {
        "id": "ITEpX5ah5DYe"
      }
    },
    {
      "cell_type": "code",
      "source": [
        "rf_model = RandomForestClassifier(n_estimators=100, random_state=42, class_weight='balanced')\n",
        "rf_model.fit(X_train, y_train)\n",
        "y_pred_rf = rf_model.predict(X_test)"
      ],
      "metadata": {
        "id": "gi4tw24A3AEE"
      },
      "execution_count": null,
      "outputs": []
    },
    {
      "cell_type": "code",
      "source": [
        "print(\"Random Forest Classifier:\")\n",
        "print(confusion_matrix(y_test, y_pred_rf))\n",
        "print(f\"Accuracy: {accuracy_score(y_test, y_pred_rf):.2f}\")"
      ],
      "metadata": {
        "id": "TYjGtslUB_xU"
      },
      "execution_count": null,
      "outputs": []
    },
    {
      "cell_type": "code",
      "source": [
        "predictions = rf_model.predict(X_test)\n",
        "\n",
        "# Display Classification Report for Random Forest\n",
        "print(\"\\nClassification Report:\")\n",
        "print(classification_report(y_test, predictions))"
      ],
      "metadata": {
        "id": "glj46fhc_XeW"
      },
      "execution_count": null,
      "outputs": []
    },
    {
      "cell_type": "code",
      "source": [
        "predictions =classifier.predict_proba(X_test)\n",
        "prob_class_1 = predictions[:, 1]\n",
        "print(predictions)\n",
        "print(prob_class_1)"
      ],
      "metadata": {
        "id": "0pwDfBKP_eKv"
      },
      "execution_count": null,
      "outputs": []
    },
    {
      "cell_type": "code",
      "source": [
        "predictions_b = classifier.predict(X_test)\n",
        "predictions_b"
      ],
      "metadata": {
        "id": "eqeyAGjn_rL9"
      },
      "execution_count": null,
      "outputs": []
    },
    {
      "cell_type": "code",
      "source": [],
      "metadata": {
        "id": "8TuzN4xi_tTp"
      },
      "execution_count": null,
      "outputs": []
    }
  ]
}